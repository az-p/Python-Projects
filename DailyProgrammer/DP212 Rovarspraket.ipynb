{
 "cells": [
  {
   "cell_type": "markdown",
   "metadata": {},
   "source": [
    "##### Solves https://redd.it/341c03"
   ]
  },
  {
   "cell_type": "markdown",
   "metadata": {},
   "source": [
    "## Main program"
   ]
  },
  {
   "cell_type": "code",
   "execution_count": 24,
   "metadata": {},
   "outputs": [],
   "source": [
    "vowels = ['A', 'E', 'I', 'O', 'U', 'Y', 'Å', 'Ä', 'Ö']\n",
    "\n",
    "def encode(word):\n",
    "    return ''.join([letter_encode(w) for w in word])\n",
    "        \n",
    "def letter_encode(letter):\n",
    "    if letter.upper() in vowels or not letter.isalpha():\n",
    "        return letter\n",
    "    else:\n",
    "        return letter+'o'+letter.lower()\n",
    "    \n",
    "def decode(word):\n",
    "    iter_word = iter(word)\n",
    "    output = []\n",
    "    \n",
    "    while True:\n",
    "        try:\n",
    "            letter = next(iter_word)\n",
    "            output.append(letter)\n",
    "            if not letter.upper() in vowels and letter.isalpha():\n",
    "                next(iter_word) # ignore 'o'\n",
    "                next(iter_word) # ignore duplicated letter\n",
    "        except StopIteration:\n",
    "            break\n",
    "            \n",
    "    return ''.join(output)"
   ]
  },
  {
   "cell_type": "markdown",
   "metadata": {},
   "source": [
    "## Encode examples"
   ]
  },
  {
   "cell_type": "code",
   "execution_count": 21,
   "metadata": {},
   "outputs": [
    {
     "name": "stdout",
     "output_type": "stream",
     "text": [
      "Jojagog totalolaror Rorövovarorsospoproråkoketot!\n",
      "I'mom sospopeakokinongog Rorobobboberor'sos lolanongoguagoge!\n",
      "Totrore Kokrorononoror äror vovärorloldodenonsos bobäsostota isoshohocockokeylolagog.\n"
     ]
    }
   ],
   "source": [
    "examples = [\"Jag talar Rövarspråket!\",\n",
    "            \"I'm speaking Robber's language!\",\n",
    "            \"Tre Kronor är världens bästa ishockeylag.\"\n",
    "           ]\n",
    "\n",
    "for example in examples:\n",
    "    print(encode(example))\n",
    "    \n",
    "example_results = []\n",
    "for example in examples:\n",
    "    example_results.append(encode(example))"
   ]
  },
  {
   "cell_type": "markdown",
   "metadata": {},
   "source": [
    "## Decode encoded examples"
   ]
  },
  {
   "cell_type": "code",
   "execution_count": 25,
   "metadata": {},
   "outputs": [
    {
     "name": "stdout",
     "output_type": "stream",
     "text": [
      "Jag talar Rövarspråket!\n",
      "I'm speaking Robber's language!\n",
      "Tre Kronor är världens bästa ishockeylag.\n"
     ]
    }
   ],
   "source": [
    "for example in example_results:\n",
    "    print(decode(example))"
   ]
  }
 ],
 "metadata": {
  "kernelspec": {
   "display_name": "Python 3",
   "language": "python",
   "name": "python3"
  },
  "language_info": {
   "codemirror_mode": {
    "name": "ipython",
    "version": 3
   },
   "file_extension": ".py",
   "mimetype": "text/x-python",
   "name": "python",
   "nbconvert_exporter": "python",
   "pygments_lexer": "ipython3",
   "version": "3.6.3"
  }
 },
 "nbformat": 4,
 "nbformat_minor": 2
}
