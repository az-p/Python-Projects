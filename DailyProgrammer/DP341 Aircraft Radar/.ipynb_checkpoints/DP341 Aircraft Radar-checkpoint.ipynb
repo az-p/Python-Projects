{
 "cells": [
  {
   "cell_type": "code",
   "execution_count": 61,
   "metadata": {
    "collapsed": false
   },
   "outputs": [],
   "source": [
    "from math import tan\n",
    "from math import pi\n",
    "from math import radians\n",
    "from math import degrees\n",
    "import numpy as np  \n",
    "import matplotlib.pyplot as plt  \n",
    "\n",
    "class RadarSolve():\n",
    "    def __init__(self, x1, y1, bearing_1, \n",
    "                       x2, y2, bearing_2,\n",
    "                       verbose=False):\n",
    "        self.line1 = Line(x1, y1, bearing_1)\n",
    "        self.line2 = Line(x2, y2, bearing_2) \n",
    "        if verbose:\n",
    "            print('Slope: ', self.line1.m, self.line2.m)\n",
    "            print('Angles: ',self.line1.theta,self.line2.theta)\n",
    "            print('Y intercepts: ',self.line1.b,self.line2.b)\n",
    "        # Solved X and Y intersection\n",
    "        self.x = None\n",
    "        self.y = None\n",
    "        \n",
    "    def intersect(self):        \n",
    "        ''' solve for intersection '''\n",
    "        if self.line1.m == 0:\n",
    "            self.y = self.line2.m*self.line1.x + self.line2.b\n",
    "            self.x = self.line1.x\n",
    "        elif self.line2.m == 0:\n",
    "            self.y = self.line1.m*self.line2.x + self.line1.b\n",
    "            self.x = self.line2.x\n",
    "        else:\n",
    "            self.x = (self.line2.b - self.line1.b) / (self.line1.m - self.line2.m)\n",
    "            self.y = self.line1.m*self.x + self.line1.b\n",
    "        return(round(self.x,2),round(self.y,2))\n",
    "            \n",
    "    def graph(self):  \n",
    "        min_x = min(self.line1.x, self.line2.x)\n",
    "        max_x = int(self.x) + 5\n",
    "        formula1 = self.line1.get_formula()\n",
    "        formula2 = self.line2.get_formula()\n",
    "        x = np.array(range(min_x,max_x))  \n",
    "        # Plot first line\n",
    "        y1 = eval(formula1)\n",
    "        if self.line1.m != 0:\n",
    "            plt.plot(x, y1, color='blue', linewidth=2)\n",
    "        else:\n",
    "            plt.axvline(self.line1.x, color='blue', linewidth=2)\n",
    "        # Plot second line\n",
    "        y2 = eval(formula2)\n",
    "        if self.line2.m != 0:\n",
    "            plt.plot(x, y2, color='green', linewidth=2)\n",
    "        else:\n",
    "            plt.axvline(self.line2.x,color='green', linewidth=2)\n",
    "        # Plot intersection point\n",
    "        plt.plot(self.x, self.y, '^', markersize=15,color='red', linewidth=2)\n",
    "        plt.axis('equal')\n",
    "        return plt\n",
    "\n",
    "\n",
    "class Line():\n",
    "    def __init__(self,x,y,bearing):\n",
    "        self.x = x\n",
    "        self.y = y\n",
    "        self.bearing = bearing                                \n",
    "        self.theta = self.get_theta()\n",
    "        self.m = self.get_slope()\n",
    "        self.b = self.get_yintercept()\n",
    "        \n",
    "    def get_theta(self):\n",
    "        return (90 - self.bearing) % 360\n",
    "    \n",
    "    def get_slope(self):\n",
    "        return round(tan(radians(self.theta)), 5) if self.theta != 90 else 0\n",
    "    \n",
    "    def get_yintercept(self):\n",
    "        return self.y-(self.m*self.x) if self.theta != 90 else 0\n",
    "    \n",
    "    def get_formula(self):\n",
    "        return '{}*x + {} - {}'.format(self.m,self.b,self.y)"
   ]
  },
  {
   "cell_type": "code",
   "execution_count": 65,
   "metadata": {
    "collapsed": false
   },
   "outputs": [
    {
     "name": "stdout",
     "output_type": "stream",
     "text": [
      "Challenge 1 object detected at (7.84, 17.61)\n",
      "\n",
      "Challenge 3 object detected at (6.04, 10.08)\n",
      "\n",
      "Example object detected at (10, 10.0)\n",
      "\n",
      "Challenge 2 object detected at (10, -55.5)\n",
      "\n"
     ]
    }
   ],
   "source": [
    "inputs = {\n",
    "    'Example': ([0, 0, 45], [10, 0, 0]),\n",
    "    'Challenge 1': ([0, 0, 24.0] , [11, 7, 343.4] ),\n",
    "    'Challenge 2':([10, 1, 0.0], [2, 8, 352.82]),\n",
    "    'Challenge 3':([0, 0, 30.9], [10, 1, 336.42])\n",
    "    }\n",
    "i=1\n",
    "for k,v in inputs.items():\n",
    "    reading_1 = v[0]\n",
    "    reading_2 = v[1]\n",
    "    \n",
    "    radar = RadarSolve(reading_1[0],reading_1[1],reading_1[2],\n",
    "                       reading_2[0],reading_2[1],reading_2[2])\n",
    "    \n",
    "    print('{} object detected at {}\\n'.format(k,radar.intersect()) )\n",
    "    plt = radar.graph()\n",
    "    plt.title(k)\n",
    "    plt.subplot(2,2,i)\n",
    "    i += 1\n",
    "    \n",
    "plt.show()"
   ]
  },
  {
   "cell_type": "code",
   "execution_count": null,
   "metadata": {
    "collapsed": true
   },
   "outputs": [],
   "source": [
    "# k = 'Challenge 1'\n",
    "# reading_1 = inputs[k][0]\n",
    "# reading_2 = inputs[k][1]\n",
    "# radar = RadarSolve(reading_1[0],reading_1[1],reading_1[2],\n",
    "#                    reading_2[0],reading_2[1],reading_2[2],\n",
    "#                    verbose=True)\n",
    "# print('{} object detected at {}\\n'.format(k,radar.intersect()) )\n",
    "# radar.graph()"
   ]
  },
  {
   "cell_type": "code",
   "execution_count": 29,
   "metadata": {
    "collapsed": false
   },
   "outputs": [
    {
     "name": "stdout",
     "output_type": "stream",
     "text": [
      "line1:  {'y': 0, 'theta': 66.0, 'm': 2.24604, 'b': 0.0, 'bearing': 24.0, 'x': 0}\n",
      "line2:  {'y': 7, 'theta': -253.39999999999998, 'm': -3.35443, 'b': 43.89873, 'bearing': 343.4, 'x': 11}\n"
     ]
    }
   ],
   "source": [
    "print('line1: ',vars(radar.line1))\n",
    "print('line2: ',vars(radar.line2))\n"
   ]
  }
 ],
 "metadata": {
  "kernelspec": {
   "display_name": "Python 3",
   "language": "python",
   "name": "python3"
  },
  "language_info": {
   "codemirror_mode": {
    "name": "ipython",
    "version": 3
   },
   "file_extension": ".py",
   "mimetype": "text/x-python",
   "name": "python",
   "nbconvert_exporter": "python",
   "pygments_lexer": "ipython3",
   "version": "3.5.2"
  }
 },
 "nbformat": 4,
 "nbformat_minor": 0
}
