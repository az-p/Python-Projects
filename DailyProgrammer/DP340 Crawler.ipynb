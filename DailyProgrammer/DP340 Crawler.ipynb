{
 "cells": [
  {
   "cell_type": "code",
   "execution_count": null,
   "metadata": {
    "collapsed": false
   },
   "outputs": [
    {
     "ename": "NameError",
     "evalue": "name 'ul' is not defined",
     "traceback": [
      "\u001b[1;31m---------------------------------------------------------------------------\u001b[0m",
      "\u001b[1;31mNameError\u001b[0m                                 Traceback (most recent call last)",
      "\u001b[1;32m<ipython-input-2-4caa5321b6d6>\u001b[0m in \u001b[0;36m<module>\u001b[1;34m()\u001b[0m\n\u001b[0;32m     30\u001b[0m \u001b[0mcrawler\u001b[0m \u001b[1;33m=\u001b[0m \u001b[0mMyCrawler\u001b[0m\u001b[1;33m(\u001b[0m\u001b[1;33m)\u001b[0m\u001b[1;33m\u001b[0m\u001b[0m\n\u001b[0;32m     31\u001b[0m \u001b[0murl\u001b[0m \u001b[1;33m=\u001b[0m \u001b[0mcrawler\u001b[0m\u001b[1;33m.\u001b[0m\u001b[0mstart_url\u001b[0m\u001b[1;33m\u001b[0m\u001b[0m\n\u001b[1;32m---> 32\u001b[1;33m \u001b[0mcrawler\u001b[0m\u001b[1;33m.\u001b[0m\u001b[0mget_links\u001b[0m\u001b[1;33m(\u001b[0m\u001b[0murl\u001b[0m\u001b[1;33m)\u001b[0m\u001b[1;33m\u001b[0m\u001b[0m\n\u001b[0m",
      "\u001b[1;32m<ipython-input-2-4caa5321b6d6>\u001b[0m in \u001b[0;36mget_links\u001b[1;34m(self, url)\u001b[0m\n\u001b[0;32m     10\u001b[0m \u001b[1;33m\u001b[0m\u001b[0m\n\u001b[0;32m     11\u001b[0m     \u001b[1;32mdef\u001b[0m \u001b[0mget_links\u001b[0m\u001b[1;33m(\u001b[0m\u001b[0mself\u001b[0m\u001b[1;33m,\u001b[0m \u001b[0murl\u001b[0m\u001b[1;33m)\u001b[0m\u001b[1;33m:\u001b[0m\u001b[1;33m\u001b[0m\u001b[0m\n\u001b[1;32m---> 12\u001b[1;33m         \u001b[0mrobo_url\u001b[0m \u001b[1;33m=\u001b[0m \u001b[0mul\u001b[0m\u001b[1;33m.\u001b[0m\u001b[0mparse\u001b[0m\u001b[1;33m.\u001b[0m\u001b[0murljoin\u001b[0m\u001b[1;33m(\u001b[0m\u001b[0murl\u001b[0m\u001b[1;33m,\u001b[0m \u001b[1;34mr'/robots.txt'\u001b[0m\u001b[1;33m)\u001b[0m\u001b[1;33m\u001b[0m\u001b[0m\n\u001b[0m\u001b[0;32m     13\u001b[0m         \u001b[0mprint\u001b[0m\u001b[1;33m(\u001b[0m\u001b[1;34m'URL is '\u001b[0m\u001b[1;33m,\u001b[0m \u001b[0murl\u001b[0m\u001b[1;33m)\u001b[0m\u001b[1;33m\u001b[0m\u001b[0m\n\u001b[0;32m     14\u001b[0m         \u001b[0mprint\u001b[0m\u001b[1;33m(\u001b[0m\u001b[1;34m'Robo URL is: '\u001b[0m\u001b[1;33m,\u001b[0m \u001b[0mrobo_url\u001b[0m\u001b[1;33m)\u001b[0m        \u001b[1;31m# Debug\u001b[0m\u001b[1;33m\u001b[0m\u001b[0m\n",
      "\u001b[1;31mNameError\u001b[0m: name 'ul' is not defined"
     ],
     "output_type": "error"
    }
   ],
   "source": [
    "class MyCrawler:\n",
    "    import urllib as ul\n",
    "    \n",
    "    #import httplib as http\n",
    "    import requests\n",
    "    \n",
    "    def __init__(self):\n",
    "        self.start_url = r'http://quotes.toscrape.com/'\n",
    "        self.crawl_depth = 1\n",
    "    \n",
    "    def get_links(self, url):\n",
    "        robo_url = ul.parse.urljoin(url, r'/robots.txt')\n",
    "        print('URL is ', url)\n",
    "        print('Robo URL is: ', robo_url)        # Debug\n",
    "\n",
    "        rp = ul.robotparser.RobotFileParser()\n",
    "        rp.set_url(robo_url)\n",
    "        rp.read()\n",
    "        can_fetch = rp.can_fetch(\"*\", url)\n",
    "        \n",
    "        print('Can we fetch this URL? ', can_fetch) # Debug\n",
    "        \n",
    "        \n",
    "        if can_fetch:\n",
    "            r = requests.get(url)\n",
    "            print(r)\n",
    "\n",
    "\n",
    "# Begin\n",
    "print('a')\n",
    "crawler = MyCrawler()\n",
    "url = crawler.start_url\n",
    "crawler.get_links(url)"
   ]
  },
  {
   "cell_type": "code",
   "execution_count": null,
   "metadata": {},
   "outputs": [
    {
     "name": "stdout",
     "output_type": "stream",
     "text": [
      "urllib <module 'urllib' from 'C:\\\\Users\\\\Austin\\\\Anaconda3\\\\lib\\\\urllib\\\\__init__.py'>\n['__class__', '__delattr__', '__dict__', '__dir__', '__doc__', '__eq__', '__format__', '__ge__', '__getattribute__', '__gt__', '__hash__', '__init__', '__le__', '__lt__', '__module__', '__ne__', '__new__', '__reduce__', '__reduce_ex__', '__repr__', '__setattr__', '__sizeof__', '__str__', '__subclasshook__', '__weakref__', '_add_entry', 'can_fetch', 'modified', 'mtime', 'parse', 'read', 'set_url']\n"
     ]
    }
   ],
   "source": [
    "import sys, inspect, urllib\n",
    "for name, obj in inspect.getmembers(sys.modules[__name__]):\n",
    "    if name == 'urllib':\n",
    "        print(name, obj)\n",
    "print(dir(ul.robotparser.RobotFileParser))"
   ]
  },
  {
   "cell_type": "code",
   "execution_count": null,
   "metadata": {},
   "outputs": [],
   "source": [
    "print('a')"
   ]
  }
 ],
 "metadata": {},
 "nbformat": 4,
 "nbformat_minor": 0
}
